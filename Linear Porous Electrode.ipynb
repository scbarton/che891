{
 "cells": [
  {
   "cell_type": "markdown",
   "metadata": {},
   "source": [
    "# Linear Porous Electrode "
   ]
  },
  {
   "cell_type": "markdown",
   "metadata": {},
   "source": [
    "This is the porous electrode model developed in Fuller and Harb, assuming linear kinetics"
   ]
  },
  {
   "cell_type": "code",
   "execution_count": 1,
   "metadata": {},
   "outputs": [
    {
     "data": {
      "application/javascript": [
       "Jupyter.toolbar.actions.call('jupyter-notebook:hide-toolbar')"
      ],
      "text/plain": [
       "<IPython.core.display.Javascript object>"
      ]
     },
     "metadata": {},
     "output_type": "display_data"
    },
    {
     "data": {
      "application/javascript": [
       "Jupyter.toolbar.actions.call('jupyter-notebook:hide-header')"
      ],
      "text/plain": [
       "<IPython.core.display.Javascript object>"
      ]
     },
     "metadata": {},
     "output_type": "display_data"
    },
    {
     "data": {
      "application/javascript": [
       "$('div.input').hide();"
      ],
      "text/plain": [
       "<IPython.core.display.Javascript object>"
      ]
     },
     "metadata": {},
     "output_type": "display_data"
    },
    {
     "data": {
      "application/vnd.jupyter.widget-view+json": {
       "model_id": "dc68a86c05ba444f8b572b1caa8fe537",
       "version_major": 2,
       "version_minor": 0
      },
      "text/plain": [
       "ToggleButtons(options=('Show Code', 'Hide Code'), value='Show Code')"
      ]
     },
     "metadata": {},
     "output_type": "display_data"
    }
   ],
   "source": [
    "%matplotlib inline\n",
    "from ipywidgets import widgets, interact\n",
    "from hidecode import hidecode"
   ]
  },
  {
   "cell_type": "code",
   "execution_count": 2,
   "metadata": {},
   "outputs": [],
   "source": [
    "def plin(v=1, Kr=1):\n",
    "    \n",
    "    z=linspace(0,1)\n",
    "    \n",
    "    icd= Kr / (1 + Kr) + (sinh(v*z) + Kr * sinh(v * (z-1))) / ((1 + Kr) * sinh(v))\n",
    "    dicd= (v * cosh(v * z) + v * Kr * cosh(v * (z-1))) / ((1 + Kr) * sinh(v))\n",
    "    \n",
    "    return icd, dicd"
   ]
  },
  {
   "cell_type": "code",
   "execution_count": 3,
   "metadata": {},
   "outputs": [],
   "source": [
    "def pplot(v2=100, Kr=0.1):\n",
    "    \n",
    "    v=sqrt(v2)\n",
    "    z=linspace(0,1)\n",
    "\n",
    "    res=plin(v,Kr)\n",
    "    \n",
    "    fig,axs=subplots(1,2,figsize=[10,4])\n",
    "\n",
    "    sca(axs[0])\n",
    "    plot(z,res[0])\n",
    "    legend(['$v^2$=1','3','10','100'])\n",
    "    title('$i_2$ / $i_{tot}$')\n",
    "    xlabel( 'z = x / L')\n",
    "\n",
    "    sca(axs[1])\n",
    "    plot(z,res[1])\n",
    "    ylim(0,5)\n",
    "    title('$di*$ / $dz$')\n",
    "    \n",
    "    show()"
   ]
  },
  {
   "cell_type": "code",
   "execution_count": 4,
   "metadata": {
    "scrolled": false
   },
   "outputs": [
    {
     "data": {
      "application/vnd.jupyter.widget-view+json": {
       "model_id": "95a22aa0a48d46579d338919601c91bc",
       "version_major": 2,
       "version_minor": 0
      },
      "text/plain": [
       "interactive(children=(Dropdown(description='v2', index=3, options=(1, 3, 10, 100), value=100), Dropdown(descri…"
      ]
     },
     "metadata": {},
     "output_type": "display_data"
    }
   ],
   "source": [
    "interact(pplot,v2=[1, 3, 10, 100],Kr=[0.1,0.2,0.5,1,2,5,10]);"
   ]
  },
  {
   "cell_type": "code",
   "execution_count": null,
   "metadata": {},
   "outputs": [],
   "source": []
  }
 ],
 "metadata": {
  "hide_input": false,
  "kernelspec": {
   "display_name": "Python 3",
   "language": "python",
   "name": "python3"
  },
  "language_info": {
   "codemirror_mode": {
    "name": "ipython",
    "version": 3
   },
   "file_extension": ".py",
   "mimetype": "text/x-python",
   "name": "python",
   "nbconvert_exporter": "python",
   "pygments_lexer": "ipython3",
   "version": "3.7.2"
  },
  "toc": {
   "nav_menu": {},
   "number_sections": false,
   "sideBar": true,
   "skip_h1_title": false,
   "toc_cell": false,
   "toc_position": {},
   "toc_section_display": "block",
   "toc_window_display": false
  }
 },
 "nbformat": 4,
 "nbformat_minor": 2
}
