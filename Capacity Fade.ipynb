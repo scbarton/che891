{
 "cells": [
  {
   "cell_type": "markdown",
   "metadata": {},
   "source": [
    "# Capacity Fade"
   ]
  },
  {
   "cell_type": "markdown",
   "metadata": {},
   "source": [
    "$ Q_N \\approx Q_0\\ (\\eta_{\\mathrm{coul}})^N $"
   ]
  },
  {
   "cell_type": "code",
   "execution_count": 1,
   "metadata": {},
   "outputs": [],
   "source": [
    "%matplotlib inline\n",
    "from ipywidgets import widgets, interact"
   ]
  },
  {
   "cell_type": "code",
   "execution_count": 5,
   "metadata": {},
   "outputs": [],
   "source": [
    "eta=0.99\n",
    "n=linspace(0,1000,1000)\n",
    "Qr= eta**n"
   ]
  },
  {
   "cell_type": "code",
   "execution_count": 6,
   "metadata": {},
   "outputs": [],
   "source": [
    "def fadeplot(eta=0.01):\n",
    "\n",
    "    n=linspace(0,1000,1000)\n",
    "    Qr= eta**n\n",
    "\n",
    "    fig,ax=subplots(1,2,figsize=(10,4))\n",
    "\n",
    "    sca(ax[0])\n",
    "    plot(n,Qr)\n",
    "\n",
    "    xlabel('Cycles')\n",
    "    ylabel('Q / $Q_0$')\n",
    "    axhline(0.8,linestyle=':',color='gray')\n",
    "\n",
    "    sca(ax[1])\n",
    "    plot(n,Qr,color='C1')\n",
    "\n",
    "    ylim(0.7,1)\n",
    "    xlim(0,400)\n",
    "    xlabel('Cycles')\n",
    "    ylabel('Q / $Q_0$')\n",
    "    axhline(0.8,linestyle=':',color='gray')\n",
    "    tight_layout()"
   ]
  },
  {
   "cell_type": "code",
   "execution_count": 7,
   "metadata": {},
   "outputs": [
    {
     "data": {
      "application/vnd.jupyter.widget-view+json": {
       "model_id": "997ef56e49dd4b1e98ead90752b879db",
       "version_major": 2,
       "version_minor": 0
      },
      "text/plain": [
       "interactive(children=(FloatText(value=0.99, description='$\\\\eta_{\\\\mathrm{coul}}$'), Output()), _dom_classes=(…"
      ]
     },
     "metadata": {},
     "output_type": "display_data"
    }
   ],
   "source": [
    "w=widgets.FloatText(value=0.99, description='$\\eta_{\\mathrm{coul}}$')\n",
    "interact(fadeplot, eta=w)\n",
    "show()"
   ]
  },
  {
   "cell_type": "code",
   "execution_count": null,
   "metadata": {},
   "outputs": [],
   "source": []
  }
 ],
 "metadata": {
  "hide_input": true,
  "kernelspec": {
   "display_name": "Python 3",
   "language": "python",
   "name": "python3"
  },
  "language_info": {
   "codemirror_mode": {
    "name": "ipython",
    "version": 3
   },
   "file_extension": ".py",
   "mimetype": "text/x-python",
   "name": "python",
   "nbconvert_exporter": "python",
   "pygments_lexer": "ipython3",
   "version": "3.7.2"
  },
  "toc": {
   "nav_menu": {},
   "number_sections": false,
   "sideBar": true,
   "skip_h1_title": false,
   "toc_cell": false,
   "toc_position": {},
   "toc_section_display": "block",
   "toc_window_display": false
  },
  "varInspector": {
   "cols": {
    "lenName": 16,
    "lenType": 16,
    "lenVar": 40
   },
   "kernels_config": {
    "python": {
     "delete_cmd_postfix": "",
     "delete_cmd_prefix": "del ",
     "library": "var_list.py",
     "varRefreshCmd": "print(var_dic_list())"
    },
    "r": {
     "delete_cmd_postfix": ") ",
     "delete_cmd_prefix": "rm(",
     "library": "var_list.r",
     "varRefreshCmd": "cat(var_dic_list()) "
    }
   },
   "types_to_exclude": [
    "module",
    "function",
    "builtin_function_or_method",
    "instance",
    "_Feature"
   ],
   "window_display": false
  }
 },
 "nbformat": 4,
 "nbformat_minor": 2
}
