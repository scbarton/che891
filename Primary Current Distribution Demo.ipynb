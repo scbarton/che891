{
 "cells": [
  {
   "cell_type": "markdown",
   "metadata": {},
   "source": [
    "# Primary Current Distribution Demo"
   ]
  },
  {
   "cell_type": "markdown",
   "metadata": {},
   "source": [
    "This demo uses Schwarz-Christoffel mapping to show lines of constant current and potential for two electrodes placed on the edge of a 2D rectangular domain.  The calculation is based on the following two references:\n",
    " 1. V. I. Ivanov and M. K. Trubetskov, Handbook of Conformal Mapping With Computer-Aided Visualization, CRC Press, (1994).  \n",
    " 2. R. Schinzinger and P. A. A. Laura, Conformal Mapping: Methods and Applications, Courier Corporation, (2012).  "
   ]
  },
  {
   "cell_type": "code",
   "execution_count": 1,
   "metadata": {},
   "outputs": [],
   "source": [
    "%matplotlib inline\n",
    "import numpy as np\n",
    "import matplotlib.pyplot as pl\n",
    "import mpmath as mp\n",
    "\n",
    "from scipy.optimize import fsolve\n",
    "import matplotlib.patches as patches\n",
    "from ipywidgets import widgets, interact"
   ]
  },
  {
   "cell_type": "code",
   "execution_count": 2,
   "metadata": {},
   "outputs": [],
   "source": [
    "sn = np.vectorize(mp.ellipfun('sn'))\n",
    "\n",
    "\n",
    "def ellipj(t, m):\n",
    "    z = mp.ellipf(mp.asin(t),m)\n",
    "    z = np.real(z) + np.abs(np.imag(z))*1j\n",
    "    return z\n",
    "\n",
    "\n",
    "ellipjV = np.vectorize(ellipj)\n",
    "\n",
    "\n",
    "mp_to_complex = np.vectorize(np.cdouble)"
   ]
  },
  {
   "cell_type": "code",
   "execution_count": 3,
   "metadata": {},
   "outputs": [],
   "source": [
    "def primary_rect(AR=3.0,wr=0.2,lines=15):\n",
    "    \n",
    "    b, h= 0.5, AR\n",
    "    mod=h/b\n",
    "    qz=exp(-pi*mod)\n",
    "    mz=mp.mfrom(q=qz)\n",
    "    kz=sqrt(mz)\n",
    "\n",
    "    Kz=mp.ellipk(mz)\n",
    "    Bz=b/Kz\n",
    "\n",
    "    # boundary coordinates\n",
    "    pz = np.array([-b+h*1j, -b, b, b+h*1j])\n",
    "\n",
    "    # electrode coordinates\n",
    "    vz = np.array([ b + h/2*(1 - wr) * 1j,  b + h / 2 * (1 + wr) * 1j,\n",
    "                -b + h/2*(1 + wr) * 1j, -b + h / 2 * (1 - wr) * 1j])\n",
    "\n",
    "    # convert to t-space\n",
    "    ptz = sn(pz/Bz,mz)\n",
    "    vtz = sn(vz/Bz,mz)\n",
    "\n",
    "    # convert to w-space\n",
    "    at, bt, ct, dt = vtz\n",
    "    Dv = (ct - at) / (ct - bt) / ((dt - at) / (dt - bt))\n",
    "    mw = (mp.sqrt(Dv) - mp.sqrt(Dv - 1))**4\n",
    "    kw = sqrt(real(mw))\n",
    "    qw = mp.qfrom(m=mw)\n",
    "    Bw = -mp.log(qw)/pi\n",
    "\n",
    "    resistance= 2.0/float(real(Bw))  # = 2*Kw/Kpw\n",
    "\n",
    "    tw = np.array([-1/kw, -1, 1, 1/kw])\n",
    "    wtnew = ellipjV(tw,mw)\n",
    "    wt=mp_to_complex(wtnew)\n",
    "    \n",
    "    # Linear fractional transformation\n",
    "    t0 = sort(real(mp_to_complex(vtz)))\n",
    "    t1 = sort(real(mp_to_complex(tw)))\n",
    "\n",
    "    delta = 1.0\n",
    "    ttrans= lambda a,t: (a[0]*t + a[1]) / (a[2]*t + delta)\n",
    "    zerofun= lambda a: t1[1:] - ttrans(a,t0[1:])\n",
    "\n",
    "    alpha, beta, gamma=fsolve(zerofun,[1,1,0],xtol=1.0e-12)\n",
    "    \n",
    "    # w-space grid\n",
    "    Kw = real(np.cdouble(mp.ellipk(mw)))\n",
    "    Kpw = real(np.cdouble(mp.ellipk(1 - mw)))\n",
    "\n",
    "    x=linspace(-Kw, Kw, lines)\n",
    "    y=linspace(0, Kpw, 101)\n",
    "    phix, phiy = np.meshgrid(x, y)\n",
    "    phiw= phix + phiy*1j\n",
    "\n",
    "    x=linspace(-Kw, Kw, 101)\n",
    "    y=linspace(0, Kpw, lines)\n",
    "    dphix, dphiy = np.meshgrid(x, y)\n",
    "    dphiw= dphix.T + dphiy.T*1j\n",
    "\n",
    "    # Transform grid from w-space to z-space\n",
    "    def w_to_z(w):\n",
    "        \n",
    "        tw = sn(w, mw)\n",
    "        tz = (delta*tw - beta) / (-gamma*tw + alpha)\n",
    "        z = Bz*ellipjV(tz,mz)\n",
    "\n",
    "        return mp_to_complex(z)    \n",
    "    \n",
    "    phiz= w_to_z(phiw)\n",
    "    dphiz= w_to_z(dphiw)\n",
    "    \n",
    "    # Plot\n",
    "    compT= lambda z: (imag(z), real(z))\n",
    "\n",
    "    rect = patches.Rectangle((0,-b),h,2*b,linewidth=1,edgecolor='k',facecolor='none')\n",
    "\n",
    "    plot(*compT(vz[:2]),'r',linewidth=2)\n",
    "    plot(*compT(vz[2:]),'b',linewidth=2)\n",
    "    plot(*compT(phiz), color='gray', linewidth=0.5);\n",
    "    plot(*compT(dphiz), color='gray', linewidth=0.5, linestyle='dashed')\n",
    "    gca().add_patch(rect)\n",
    "\n",
    "    axis('equal')\n",
    "    axis('off')\n",
    "\n",
    "    rstring='$R/R_0 = $ {0:5.3f}'.format(resistance)\n",
    "    text( 0.5, 1.05, rstring,fontsize=10)\n",
    "\n",
    "    show()"
   ]
  },
  {
   "cell_type": "code",
   "execution_count": 4,
   "metadata": {},
   "outputs": [
    {
     "data": {
      "application/vnd.jupyter.widget-view+json": {
       "model_id": "357bb0f73c314417b0ad7530c88e2f6e",
       "version_major": 2,
       "version_minor": 0
      },
      "text/plain": [
       "interactive(children=(Dropdown(description='AR', index=4, options=(0.3333333333333333, 0.5, 1, 2, 3), value=3)…"
      ]
     },
     "metadata": {},
     "output_type": "display_data"
    }
   ],
   "source": [
    "interact(primary_rect, AR=[1/3, 1/2, 1, 2, 3], wr=[0.1, 0.2, 1/3, 0.5, 1], lines=[5,10,15,20]);"
   ]
  }
 ],
 "metadata": {
  "hide_input": false,
  "kernelspec": {
   "display_name": "Python 3",
   "language": "python",
   "name": "python3"
  },
  "language_info": {
   "codemirror_mode": {
    "name": "ipython",
    "version": 3
   },
   "file_extension": ".py",
   "mimetype": "text/x-python",
   "name": "python",
   "nbconvert_exporter": "python",
   "pygments_lexer": "ipython3",
   "version": "3.7.2"
  },
  "toc": {
   "nav_menu": {},
   "number_sections": false,
   "sideBar": true,
   "skip_h1_title": false,
   "toc_cell": false,
   "toc_position": {},
   "toc_section_display": "block",
   "toc_window_display": false
  }
 },
 "nbformat": 4,
 "nbformat_minor": 2
}
